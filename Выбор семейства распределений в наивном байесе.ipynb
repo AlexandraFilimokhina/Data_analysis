{
 "cells": [
  {
   "cell_type": "markdown",
   "metadata": {},
   "source": [
    "### Выбор семейства распределений в наивном байесе"
   ]
  },
  {
   "cell_type": "markdown",
   "metadata": {},
   "source": [
    "Необходимо выяснить, какое распределение лучше использовать в наивном байесовском классификаторе в зависимости от вида признаков."
   ]
  },
  {
   "cell_type": "code",
   "execution_count": 10,
   "metadata": {},
   "outputs": [],
   "source": [
    "from sklearn.datasets import load_digits,load_breast_cancer\n",
    "import numpy as np"
   ]
  },
  {
   "cell_type": "code",
   "execution_count": 5,
   "metadata": {},
   "outputs": [],
   "source": [
    "digits = load_digits()\n",
    "X_digits = digits.data\n",
    "y_digits = digits.target\n",
    "breast_cancer = load_breast_cancer()\n",
    "X_bc = breast_cancer.data\n",
    "y_bc = breast_cancer.target"
   ]
  },
  {
   "cell_type": "code",
   "execution_count": 6,
   "metadata": {},
   "outputs": [],
   "source": [
    "from sklearn.cross_validation import cross_val_score"
   ]
  },
  {
   "cell_type": "code",
   "execution_count": 13,
   "metadata": {},
   "outputs": [
    {
     "name": "stdout",
     "output_type": "stream",
     "text": [
      "0.8258236507780582\n",
      "0.8708771489735053\n",
      "0.8186003803550138\n"
     ]
    }
   ],
   "source": [
    "from sklearn.naive_bayes import BernoulliNB, MultinomialNB,GaussianNB\n",
    "clf_1 = BernoulliNB()\n",
    "clf_2 = MultinomialNB()\n",
    "clf_3 = GaussianNB()\n",
    "\n",
    "print(np.mean(cross_val_score(clf_1, X_digits, y_digits)))\n",
    "print(np.mean(cross_val_score(clf_2, X_digits, y_digits)))\n",
    "print(np.mean(cross_val_score(clf_3, X_digits, y_digits)))\n"
   ]
  },
  {
   "cell_type": "code",
   "execution_count": 14,
   "metadata": {},
   "outputs": [
    {
     "name": "stdout",
     "output_type": "stream",
     "text": [
      "0.6274204028589994\n",
      "0.8945790401930752\n",
      "0.9367492806089297\n"
     ]
    }
   ],
   "source": [
    "print(np.mean(cross_val_score(clf_1, X_bc, y_bc)))\n",
    "print(np.mean(cross_val_score(clf_2, X_bc, y_bc)))\n",
    "print(np.mean(cross_val_score(clf_3, X_bc, y_bc)))"
   ]
  },
  {
   "cell_type": "markdown",
   "metadata": {},
   "source": [
    "### Выводы: "
   ]
  },
  {
   "cell_type": "markdown",
   "metadata": {},
   "source": [
    "Мультиномиальное распределение лучше показало себя на выборке с целыми неотрицательными значениями признаков"
   ]
  },
  {
   "cell_type": "markdown",
   "metadata": {},
   "source": [
    "На вещественных признаках лучше всего сработало нормальное распределение"
   ]
  },
  {
   "cell_type": "code",
   "execution_count": null,
   "metadata": {},
   "outputs": [],
   "source": []
  }
 ],
 "metadata": {
  "kernelspec": {
   "display_name": "Python 2",
   "language": "python",
   "name": "python2"
  },
  "language_info": {
   "codemirror_mode": {
    "name": "ipython",
    "version": 2
   },
   "file_extension": ".py",
   "mimetype": "text/x-python",
   "name": "python",
   "nbconvert_exporter": "python",
   "pygments_lexer": "ipython2",
   "version": "2.7.14"
  }
 },
 "nbformat": 4,
 "nbformat_minor": 2
}
